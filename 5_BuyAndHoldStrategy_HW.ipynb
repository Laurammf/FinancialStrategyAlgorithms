{
 "cells": [
  {
   "cell_type": "code",
   "execution_count": null,
   "id": "cf19f4be",
   "metadata": {},
   "outputs": [],
   "source": [
    "# 25BuyAndHoldStrategy: ripetere quello che ho fatto io a lezione con un altro strumento finanziario, \n",
    "# commentando le metriche ottenute come ho fatto io durante la lezione. Scrivete i commenti dentro al file Jupyter\n",
    "\n",
    "import pandas as pd\n",
    "import numpy as np\n",
    "import matplotlib.pyplot as plt\n",
    "plt.style.use(\"seaborn\")"
   ]
  },
  {
   "cell_type": "code",
   "execution_count": 5,
   "id": "ea611d59",
   "metadata": {},
   "outputs": [],
   "source": [
    "import tpqoa\n",
    "api = tpqoa.tpqoa(\"oanda.cfg\")"
   ]
  },
  {
   "cell_type": "code",
   "execution_count": 6,
   "id": "7c1e483f",
   "metadata": {},
   "outputs": [],
   "source": [
    "df = api.get_history(instrument = \"EUR_HUF\", start = \"2008-10-10\", end = \"2021-10-01\", granularity = \"D\", price = \"B\")"
   ]
  },
  {
   "cell_type": "code",
   "execution_count": 7,
   "id": "e30448cb",
   "metadata": {},
   "outputs": [
    {
     "data": {
      "text/html": [
       "<div>\n",
       "<style scoped>\n",
       "    .dataframe tbody tr th:only-of-type {\n",
       "        vertical-align: middle;\n",
       "    }\n",
       "\n",
       "    .dataframe tbody tr th {\n",
       "        vertical-align: top;\n",
       "    }\n",
       "\n",
       "    .dataframe thead th {\n",
       "        text-align: right;\n",
       "    }\n",
       "</style>\n",
       "<table border=\"1\" class=\"dataframe\">\n",
       "  <thead>\n",
       "    <tr style=\"text-align: right;\">\n",
       "      <th></th>\n",
       "      <th>o</th>\n",
       "      <th>h</th>\n",
       "      <th>l</th>\n",
       "      <th>c</th>\n",
       "      <th>volume</th>\n",
       "      <th>complete</th>\n",
       "    </tr>\n",
       "    <tr>\n",
       "      <th>time</th>\n",
       "      <th></th>\n",
       "      <th></th>\n",
       "      <th></th>\n",
       "      <th></th>\n",
       "      <th></th>\n",
       "      <th></th>\n",
       "    </tr>\n",
       "  </thead>\n",
       "  <tbody>\n",
       "    <tr>\n",
       "      <th>2008-10-09 21:00:00</th>\n",
       "      <td>263.944</td>\n",
       "      <td>272.135</td>\n",
       "      <td>254.860</td>\n",
       "      <td>256.250</td>\n",
       "      <td>27515</td>\n",
       "      <td>True</td>\n",
       "    </tr>\n",
       "    <tr>\n",
       "      <th>2008-10-10 21:00:00</th>\n",
       "      <td>256.250</td>\n",
       "      <td>256.250</td>\n",
       "      <td>256.250</td>\n",
       "      <td>256.250</td>\n",
       "      <td>4</td>\n",
       "      <td>True</td>\n",
       "    </tr>\n",
       "    <tr>\n",
       "      <th>2008-10-11 21:00:00</th>\n",
       "      <td>256.259</td>\n",
       "      <td>256.260</td>\n",
       "      <td>255.705</td>\n",
       "      <td>255.705</td>\n",
       "      <td>99</td>\n",
       "      <td>True</td>\n",
       "    </tr>\n",
       "    <tr>\n",
       "      <th>2008-10-12 21:00:00</th>\n",
       "      <td>255.705</td>\n",
       "      <td>256.250</td>\n",
       "      <td>250.125</td>\n",
       "      <td>251.250</td>\n",
       "      <td>22353</td>\n",
       "      <td>True</td>\n",
       "    </tr>\n",
       "    <tr>\n",
       "      <th>2008-10-13 21:00:00</th>\n",
       "      <td>251.250</td>\n",
       "      <td>253.700</td>\n",
       "      <td>246.875</td>\n",
       "      <td>253.250</td>\n",
       "      <td>25473</td>\n",
       "      <td>True</td>\n",
       "    </tr>\n",
       "  </tbody>\n",
       "</table>\n",
       "</div>"
      ],
      "text/plain": [
       "                           o        h        l        c  volume  complete\n",
       "time                                                                     \n",
       "2008-10-09 21:00:00  263.944  272.135  254.860  256.250   27515      True\n",
       "2008-10-10 21:00:00  256.250  256.250  256.250  256.250       4      True\n",
       "2008-10-11 21:00:00  256.259  256.260  255.705  255.705      99      True\n",
       "2008-10-12 21:00:00  255.705  256.250  250.125  251.250   22353      True\n",
       "2008-10-13 21:00:00  251.250  253.700  246.875  253.250   25473      True"
      ]
     },
     "execution_count": 7,
     "metadata": {},
     "output_type": "execute_result"
    }
   ],
   "source": [
    "df.head() # open, high, low, close"
   ]
  },
  {
   "cell_type": "code",
   "execution_count": 8,
   "id": "563d7a11",
   "metadata": {},
   "outputs": [
    {
     "name": "stdout",
     "output_type": "stream",
     "text": [
      "Empty DataFrame\n",
      "Columns: [o, h, l, c, volume, complete]\n",
      "Index: []\n"
     ]
    }
   ],
   "source": [
    "#  guardare e scoprire se ci sono settimane col valore NA e fare qualcosa con questi NA\n",
    "isNAN = df.isnull()\n",
    "NANrows = isNAN.any(axis=1)\n",
    "selectNAN = df[NANrows]\n",
    "print(selectNAN)"
   ]
  },
  {
   "cell_type": "code",
   "execution_count": 9,
   "id": "4dbce040",
   "metadata": {},
   "outputs": [],
   "source": [
    "df=df.c.to_frame()"
   ]
  },
  {
   "cell_type": "code",
   "execution_count": 10,
   "id": "7a4657ae",
   "metadata": {},
   "outputs": [
    {
     "data": {
      "text/html": [
       "<div>\n",
       "<style scoped>\n",
       "    .dataframe tbody tr th:only-of-type {\n",
       "        vertical-align: middle;\n",
       "    }\n",
       "\n",
       "    .dataframe tbody tr th {\n",
       "        vertical-align: top;\n",
       "    }\n",
       "\n",
       "    .dataframe thead th {\n",
       "        text-align: right;\n",
       "    }\n",
       "</style>\n",
       "<table border=\"1\" class=\"dataframe\">\n",
       "  <thead>\n",
       "    <tr style=\"text-align: right;\">\n",
       "      <th></th>\n",
       "      <th>c</th>\n",
       "    </tr>\n",
       "    <tr>\n",
       "      <th>time</th>\n",
       "      <th></th>\n",
       "    </tr>\n",
       "  </thead>\n",
       "  <tbody>\n",
       "    <tr>\n",
       "      <th>2008-10-09 21:00:00</th>\n",
       "      <td>256.250</td>\n",
       "    </tr>\n",
       "    <tr>\n",
       "      <th>2008-10-10 21:00:00</th>\n",
       "      <td>256.250</td>\n",
       "    </tr>\n",
       "    <tr>\n",
       "      <th>2008-10-11 21:00:00</th>\n",
       "      <td>255.705</td>\n",
       "    </tr>\n",
       "    <tr>\n",
       "      <th>2008-10-12 21:00:00</th>\n",
       "      <td>251.250</td>\n",
       "    </tr>\n",
       "    <tr>\n",
       "      <th>2008-10-13 21:00:00</th>\n",
       "      <td>253.250</td>\n",
       "    </tr>\n",
       "    <tr>\n",
       "      <th>2008-10-14 21:00:00</th>\n",
       "      <td>270.500</td>\n",
       "    </tr>\n",
       "    <tr>\n",
       "      <th>2008-10-15 21:00:00</th>\n",
       "      <td>264.100</td>\n",
       "    </tr>\n",
       "    <tr>\n",
       "      <th>2008-10-16 21:00:00</th>\n",
       "      <td>262.800</td>\n",
       "    </tr>\n",
       "    <tr>\n",
       "      <th>2008-10-18 21:00:00</th>\n",
       "      <td>262.962</td>\n",
       "    </tr>\n",
       "    <tr>\n",
       "      <th>2008-10-19 21:00:00</th>\n",
       "      <td>269.550</td>\n",
       "    </tr>\n",
       "    <tr>\n",
       "      <th>2008-10-20 21:00:00</th>\n",
       "      <td>277.380</td>\n",
       "    </tr>\n",
       "    <tr>\n",
       "      <th>2008-10-21 21:00:00</th>\n",
       "      <td>277.500</td>\n",
       "    </tr>\n",
       "    <tr>\n",
       "      <th>2008-10-22 21:00:00</th>\n",
       "      <td>275.750</td>\n",
       "    </tr>\n",
       "    <tr>\n",
       "      <th>2008-10-23 21:00:00</th>\n",
       "      <td>271.875</td>\n",
       "    </tr>\n",
       "    <tr>\n",
       "      <th>2008-10-25 21:00:00</th>\n",
       "      <td>267.500</td>\n",
       "    </tr>\n",
       "    <tr>\n",
       "      <th>2008-10-26 21:00:00</th>\n",
       "      <td>269.000</td>\n",
       "    </tr>\n",
       "    <tr>\n",
       "      <th>2008-10-27 21:00:00</th>\n",
       "      <td>258.950</td>\n",
       "    </tr>\n",
       "    <tr>\n",
       "      <th>2008-10-28 21:00:00</th>\n",
       "      <td>256.250</td>\n",
       "    </tr>\n",
       "    <tr>\n",
       "      <th>2008-10-29 21:00:00</th>\n",
       "      <td>259.200</td>\n",
       "    </tr>\n",
       "    <tr>\n",
       "      <th>2008-10-30 21:00:00</th>\n",
       "      <td>253.375</td>\n",
       "    </tr>\n",
       "    <tr>\n",
       "      <th>2008-11-01 21:00:00</th>\n",
       "      <td>254.500</td>\n",
       "    </tr>\n",
       "    <tr>\n",
       "      <th>2008-11-02 22:00:00</th>\n",
       "      <td>259.955</td>\n",
       "    </tr>\n",
       "    <tr>\n",
       "      <th>2008-11-03 22:00:00</th>\n",
       "      <td>257.880</td>\n",
       "    </tr>\n",
       "    <tr>\n",
       "      <th>2008-11-04 22:00:00</th>\n",
       "      <td>260.025</td>\n",
       "    </tr>\n",
       "    <tr>\n",
       "      <th>2008-11-05 22:00:00</th>\n",
       "      <td>262.200</td>\n",
       "    </tr>\n",
       "    <tr>\n",
       "      <th>2008-11-06 22:00:00</th>\n",
       "      <td>266.750</td>\n",
       "    </tr>\n",
       "    <tr>\n",
       "      <th>2008-11-08 22:00:00</th>\n",
       "      <td>266.000</td>\n",
       "    </tr>\n",
       "    <tr>\n",
       "      <th>2008-11-09 22:00:00</th>\n",
       "      <td>267.300</td>\n",
       "    </tr>\n",
       "    <tr>\n",
       "      <th>2008-11-10 22:00:00</th>\n",
       "      <td>268.705</td>\n",
       "    </tr>\n",
       "    <tr>\n",
       "      <th>2008-11-11 22:00:00</th>\n",
       "      <td>271.375</td>\n",
       "    </tr>\n",
       "  </tbody>\n",
       "</table>\n",
       "</div>"
      ],
      "text/plain": [
       "                           c\n",
       "time                        \n",
       "2008-10-09 21:00:00  256.250\n",
       "2008-10-10 21:00:00  256.250\n",
       "2008-10-11 21:00:00  255.705\n",
       "2008-10-12 21:00:00  251.250\n",
       "2008-10-13 21:00:00  253.250\n",
       "2008-10-14 21:00:00  270.500\n",
       "2008-10-15 21:00:00  264.100\n",
       "2008-10-16 21:00:00  262.800\n",
       "2008-10-18 21:00:00  262.962\n",
       "2008-10-19 21:00:00  269.550\n",
       "2008-10-20 21:00:00  277.380\n",
       "2008-10-21 21:00:00  277.500\n",
       "2008-10-22 21:00:00  275.750\n",
       "2008-10-23 21:00:00  271.875\n",
       "2008-10-25 21:00:00  267.500\n",
       "2008-10-26 21:00:00  269.000\n",
       "2008-10-27 21:00:00  258.950\n",
       "2008-10-28 21:00:00  256.250\n",
       "2008-10-29 21:00:00  259.200\n",
       "2008-10-30 21:00:00  253.375\n",
       "2008-11-01 21:00:00  254.500\n",
       "2008-11-02 22:00:00  259.955\n",
       "2008-11-03 22:00:00  257.880\n",
       "2008-11-04 22:00:00  260.025\n",
       "2008-11-05 22:00:00  262.200\n",
       "2008-11-06 22:00:00  266.750\n",
       "2008-11-08 22:00:00  266.000\n",
       "2008-11-09 22:00:00  267.300\n",
       "2008-11-10 22:00:00  268.705\n",
       "2008-11-11 22:00:00  271.375"
      ]
     },
     "execution_count": 10,
     "metadata": {},
     "output_type": "execute_result"
    }
   ],
   "source": [
    "df.head(30)"
   ]
  },
  {
   "cell_type": "code",
   "execution_count": 11,
   "id": "fc71de3a",
   "metadata": {},
   "outputs": [],
   "source": [
    "# returns\n",
    "df[\"returns\"]=np.log(df/df.shift(1))"
   ]
  },
  {
   "cell_type": "code",
   "execution_count": 12,
   "id": "bca87d9d",
   "metadata": {},
   "outputs": [
    {
     "data": {
      "text/html": [
       "<div>\n",
       "<style scoped>\n",
       "    .dataframe tbody tr th:only-of-type {\n",
       "        vertical-align: middle;\n",
       "    }\n",
       "\n",
       "    .dataframe tbody tr th {\n",
       "        vertical-align: top;\n",
       "    }\n",
       "\n",
       "    .dataframe thead th {\n",
       "        text-align: right;\n",
       "    }\n",
       "</style>\n",
       "<table border=\"1\" class=\"dataframe\">\n",
       "  <thead>\n",
       "    <tr style=\"text-align: right;\">\n",
       "      <th></th>\n",
       "      <th>c</th>\n",
       "      <th>returns</th>\n",
       "    </tr>\n",
       "    <tr>\n",
       "      <th>time</th>\n",
       "      <th></th>\n",
       "      <th></th>\n",
       "    </tr>\n",
       "  </thead>\n",
       "  <tbody>\n",
       "    <tr>\n",
       "      <th>2008-10-09 21:00:00</th>\n",
       "      <td>256.250</td>\n",
       "      <td>NaN</td>\n",
       "    </tr>\n",
       "    <tr>\n",
       "      <th>2008-10-10 21:00:00</th>\n",
       "      <td>256.250</td>\n",
       "      <td>0.000000</td>\n",
       "    </tr>\n",
       "    <tr>\n",
       "      <th>2008-10-11 21:00:00</th>\n",
       "      <td>255.705</td>\n",
       "      <td>-0.002129</td>\n",
       "    </tr>\n",
       "    <tr>\n",
       "      <th>2008-10-12 21:00:00</th>\n",
       "      <td>251.250</td>\n",
       "      <td>-0.017576</td>\n",
       "    </tr>\n",
       "    <tr>\n",
       "      <th>2008-10-13 21:00:00</th>\n",
       "      <td>253.250</td>\n",
       "      <td>0.007929</td>\n",
       "    </tr>\n",
       "  </tbody>\n",
       "</table>\n",
       "</div>"
      ],
      "text/plain": [
       "                           c   returns\n",
       "time                                  \n",
       "2008-10-09 21:00:00  256.250       NaN\n",
       "2008-10-10 21:00:00  256.250  0.000000\n",
       "2008-10-11 21:00:00  255.705 -0.002129\n",
       "2008-10-12 21:00:00  251.250 -0.017576\n",
       "2008-10-13 21:00:00  253.250  0.007929"
      ]
     },
     "execution_count": 12,
     "metadata": {},
     "output_type": "execute_result"
    }
   ],
   "source": [
    "df.head()"
   ]
  },
  {
   "cell_type": "code",
   "execution_count": 13,
   "id": "23dcddb6",
   "metadata": {},
   "outputs": [],
   "source": [
    "df.dropna(inplace=True) "
   ]
  },
  {
   "cell_type": "code",
   "execution_count": 14,
   "id": "9d574df7",
   "metadata": {},
   "outputs": [
    {
     "data": {
      "text/html": [
       "<div>\n",
       "<style scoped>\n",
       "    .dataframe tbody tr th:only-of-type {\n",
       "        vertical-align: middle;\n",
       "    }\n",
       "\n",
       "    .dataframe tbody tr th {\n",
       "        vertical-align: top;\n",
       "    }\n",
       "\n",
       "    .dataframe thead th {\n",
       "        text-align: right;\n",
       "    }\n",
       "</style>\n",
       "<table border=\"1\" class=\"dataframe\">\n",
       "  <thead>\n",
       "    <tr style=\"text-align: right;\">\n",
       "      <th></th>\n",
       "      <th>c</th>\n",
       "      <th>returns</th>\n",
       "    </tr>\n",
       "    <tr>\n",
       "      <th>time</th>\n",
       "      <th></th>\n",
       "      <th></th>\n",
       "    </tr>\n",
       "  </thead>\n",
       "  <tbody>\n",
       "    <tr>\n",
       "      <th>2008-10-10 21:00:00</th>\n",
       "      <td>256.250</td>\n",
       "      <td>0.000000</td>\n",
       "    </tr>\n",
       "    <tr>\n",
       "      <th>2008-10-11 21:00:00</th>\n",
       "      <td>255.705</td>\n",
       "      <td>-0.002129</td>\n",
       "    </tr>\n",
       "    <tr>\n",
       "      <th>2008-10-12 21:00:00</th>\n",
       "      <td>251.250</td>\n",
       "      <td>-0.017576</td>\n",
       "    </tr>\n",
       "    <tr>\n",
       "      <th>2008-10-13 21:00:00</th>\n",
       "      <td>253.250</td>\n",
       "      <td>0.007929</td>\n",
       "    </tr>\n",
       "    <tr>\n",
       "      <th>2008-10-14 21:00:00</th>\n",
       "      <td>270.500</td>\n",
       "      <td>0.065895</td>\n",
       "    </tr>\n",
       "  </tbody>\n",
       "</table>\n",
       "</div>"
      ],
      "text/plain": [
       "                           c   returns\n",
       "time                                  \n",
       "2008-10-10 21:00:00  256.250  0.000000\n",
       "2008-10-11 21:00:00  255.705 -0.002129\n",
       "2008-10-12 21:00:00  251.250 -0.017576\n",
       "2008-10-13 21:00:00  253.250  0.007929\n",
       "2008-10-14 21:00:00  270.500  0.065895"
      ]
     },
     "execution_count": 14,
     "metadata": {},
     "output_type": "execute_result"
    }
   ],
   "source": [
    "df.head()"
   ]
  },
  {
   "cell_type": "markdown",
   "id": "ab8678f0",
   "metadata": {},
   "source": [
    "## Strategia Buy and hold"
   ]
  },
  {
   "cell_type": "code",
   "execution_count": 15,
   "id": "d97feb57",
   "metadata": {},
   "outputs": [
    {
     "data": {
      "text/plain": [
       "<AxesSubplot:ylabel='Frequency'>"
      ]
     },
     "execution_count": 15,
     "metadata": {},
     "output_type": "execute_result"
    },
    {
     "data": {
      "image/png": "[encoded data removed]",
      "text/plain": [
       "<Figure size 576x396 with 1 Axes>"
      ]
     },
     "metadata": {},
     "output_type": "display_data"
    }
   ],
   "source": [
    "df[\"returns\"].plot(kind=\"hist\", bins=100)"
   ]
  },
  {
   "cell_type": "code",
   "execution_count": null,
   "id": "766eaa8d",
   "metadata": {},
   "outputs": [],
   "source": [
    "#Il grafico è quasi simmetrico, ma si vede una preponderanza al lato destro, che significa che la valuta\n",
    "#ungherese ha guadagnato valore dal 2008, quindi i rendimenti sono positivi. "
   ]
  },
  {
   "cell_type": "code",
   "execution_count": 16,
   "id": "aec11e1c",
   "metadata": {},
   "outputs": [
    {
     "data": {
      "text/plain": [
       "0.332268290458157"
      ]
     },
     "execution_count": 16,
     "metadata": {},
     "output_type": "execute_result"
    }
   ],
   "source": [
    "df.returns.sum()"
   ]
  },
  {
   "cell_type": "code",
   "execution_count": null,
   "id": "026e7406",
   "metadata": {},
   "outputs": [],
   "source": [
    "#il risultato del sum conferma quello che si vede nel grafica sopra. "
   ]
  },
  {
   "cell_type": "markdown",
   "id": "c2527923",
   "metadata": {},
   "source": [
    "Se vogliamo vedere come è diventato 1 dollaro comprato a inizio periodo, dato che $${\\text LR}= \\log \\frac{P_{fine}}{P_{inizio}} \\ \\ \\ \\ \\ \\   \\exp^{\\text LR}= \\frac{P_{fine}}{P_{inizio}}  \\ \\ \\ \\ \\ \\   P_{fine}=P_{inizio}\\cdot \\exp^{\\text LR}$$"
   ]
  },
  {
   "cell_type": "code",
   "execution_count": 17,
   "id": "dd0db351",
   "metadata": {},
   "outputs": [
    {
     "name": "stdout",
     "output_type": "stream",
     "text": [
      "1.3941268292682925\n"
     ]
    }
   ],
   "source": [
    "pfinale = 1*np.exp(df.returns.sum())\n",
    "print(pfinale)\n",
    "#se il forint fosse stato equivalente all-euro nel 2008, oggi sarebbe equivalente al 1.39 euro"
   ]
  },
  {
   "cell_type": "code",
   "execution_count": 18,
   "id": "a50eb0aa",
   "metadata": {},
   "outputs": [],
   "source": [
    "#adesso calcoliamao per ogni giorno il log return dallinizio del periodo fino a quel giorno li. "
   ]
  },
  {
   "cell_type": "code",
   "execution_count": 19,
   "id": "a48dc28b",
   "metadata": {},
   "outputs": [],
   "source": [
    "df[\"cumlogret\"]=df.returns.cumsum()\n",
    "df[\"valore1HUF\"]=df.returns.cumsum().apply(np.exp)"
   ]
  },
  {
   "cell_type": "code",
   "execution_count": 20,
   "id": "b603b138",
   "metadata": {},
   "outputs": [
    {
     "data": {
      "text/html": [
       "<div>\n",
       "<style scoped>\n",
       "    .dataframe tbody tr th:only-of-type {\n",
       "        vertical-align: middle;\n",
       "    }\n",
       "\n",
       "    .dataframe tbody tr th {\n",
       "        vertical-align: top;\n",
       "    }\n",
       "\n",
       "    .dataframe thead th {\n",
       "        text-align: right;\n",
       "    }\n",
       "</style>\n",
       "<table border=\"1\" class=\"dataframe\">\n",
       "  <thead>\n",
       "    <tr style=\"text-align: right;\">\n",
       "      <th></th>\n",
       "      <th>c</th>\n",
       "      <th>returns</th>\n",
       "      <th>cumlogret</th>\n",
       "      <th>valore1HUF</th>\n",
       "    </tr>\n",
       "    <tr>\n",
       "      <th>time</th>\n",
       "      <th></th>\n",
       "      <th></th>\n",
       "      <th></th>\n",
       "      <th></th>\n",
       "    </tr>\n",
       "  </thead>\n",
       "  <tbody>\n",
       "    <tr>\n",
       "      <th>2008-10-10 21:00:00</th>\n",
       "      <td>256.250</td>\n",
       "      <td>0.000000</td>\n",
       "      <td>0.000000</td>\n",
       "      <td>1.000000</td>\n",
       "    </tr>\n",
       "    <tr>\n",
       "      <th>2008-10-11 21:00:00</th>\n",
       "      <td>255.705</td>\n",
       "      <td>-0.002129</td>\n",
       "      <td>-0.002129</td>\n",
       "      <td>0.997873</td>\n",
       "    </tr>\n",
       "    <tr>\n",
       "      <th>2008-10-12 21:00:00</th>\n",
       "      <td>251.250</td>\n",
       "      <td>-0.017576</td>\n",
       "      <td>-0.019705</td>\n",
       "      <td>0.980488</td>\n",
       "    </tr>\n",
       "    <tr>\n",
       "      <th>2008-10-13 21:00:00</th>\n",
       "      <td>253.250</td>\n",
       "      <td>0.007929</td>\n",
       "      <td>-0.011776</td>\n",
       "      <td>0.988293</td>\n",
       "    </tr>\n",
       "    <tr>\n",
       "      <th>2008-10-14 21:00:00</th>\n",
       "      <td>270.500</td>\n",
       "      <td>0.065895</td>\n",
       "      <td>0.054119</td>\n",
       "      <td>1.055610</td>\n",
       "    </tr>\n",
       "  </tbody>\n",
       "</table>\n",
       "</div>"
      ],
      "text/plain": [
       "                           c   returns  cumlogret  valore1HUF\n",
       "time                                                         \n",
       "2008-10-10 21:00:00  256.250  0.000000   0.000000    1.000000\n",
       "2008-10-11 21:00:00  255.705 -0.002129  -0.002129    0.997873\n",
       "2008-10-12 21:00:00  251.250 -0.017576  -0.019705    0.980488\n",
       "2008-10-13 21:00:00  253.250  0.007929  -0.011776    0.988293\n",
       "2008-10-14 21:00:00  270.500  0.065895   0.054119    1.055610"
      ]
     },
     "execution_count": 20,
     "metadata": {},
     "output_type": "execute_result"
    }
   ],
   "source": [
    "df.head()"
   ]
  },
  {
   "cell_type": "code",
   "execution_count": 21,
   "id": "6ece42d0",
   "metadata": {},
   "outputs": [
    {
     "data": {
      "text/html": [
       "<div>\n",
       "<style scoped>\n",
       "    .dataframe tbody tr th:only-of-type {\n",
       "        vertical-align: middle;\n",
       "    }\n",
       "\n",
       "    .dataframe tbody tr th {\n",
       "        vertical-align: top;\n",
       "    }\n",
       "\n",
       "    .dataframe thead th {\n",
       "        text-align: right;\n",
       "    }\n",
       "</style>\n",
       "<table border=\"1\" class=\"dataframe\">\n",
       "  <thead>\n",
       "    <tr style=\"text-align: right;\">\n",
       "      <th></th>\n",
       "      <th>c</th>\n",
       "      <th>returns</th>\n",
       "      <th>cumlogret</th>\n",
       "      <th>valore1HUF</th>\n",
       "    </tr>\n",
       "    <tr>\n",
       "      <th>time</th>\n",
       "      <th></th>\n",
       "      <th></th>\n",
       "      <th></th>\n",
       "      <th></th>\n",
       "    </tr>\n",
       "  </thead>\n",
       "  <tbody>\n",
       "    <tr>\n",
       "      <th>2008-10-10 21:00:00</th>\n",
       "      <td>256.250</td>\n",
       "      <td>0.000000</td>\n",
       "      <td>0.000000</td>\n",
       "      <td>1.000000</td>\n",
       "    </tr>\n",
       "    <tr>\n",
       "      <th>2008-10-11 21:00:00</th>\n",
       "      <td>255.705</td>\n",
       "      <td>-0.002129</td>\n",
       "      <td>-0.002129</td>\n",
       "      <td>0.997873</td>\n",
       "    </tr>\n",
       "    <tr>\n",
       "      <th>2008-10-12 21:00:00</th>\n",
       "      <td>251.250</td>\n",
       "      <td>-0.017576</td>\n",
       "      <td>-0.019705</td>\n",
       "      <td>0.980488</td>\n",
       "    </tr>\n",
       "    <tr>\n",
       "      <th>2008-10-13 21:00:00</th>\n",
       "      <td>253.250</td>\n",
       "      <td>0.007929</td>\n",
       "      <td>-0.011776</td>\n",
       "      <td>0.988293</td>\n",
       "    </tr>\n",
       "    <tr>\n",
       "      <th>2008-10-14 21:00:00</th>\n",
       "      <td>270.500</td>\n",
       "      <td>0.065895</td>\n",
       "      <td>0.054119</td>\n",
       "      <td>1.055610</td>\n",
       "    </tr>\n",
       "  </tbody>\n",
       "</table>\n",
       "</div>"
      ],
      "text/plain": [
       "                           c   returns  cumlogret  valore1HUF\n",
       "time                                                         \n",
       "2008-10-10 21:00:00  256.250  0.000000   0.000000    1.000000\n",
       "2008-10-11 21:00:00  255.705 -0.002129  -0.002129    0.997873\n",
       "2008-10-12 21:00:00  251.250 -0.017576  -0.019705    0.980488\n",
       "2008-10-13 21:00:00  253.250  0.007929  -0.011776    0.988293\n",
       "2008-10-14 21:00:00  270.500  0.065895   0.054119    1.055610"
      ]
     },
     "execution_count": 21,
     "metadata": {},
     "output_type": "execute_result"
    }
   ],
   "source": [
    "df.head()"
   ]
  },
  {
   "cell_type": "code",
   "execution_count": 22,
   "id": "73be576c",
   "metadata": {},
   "outputs": [
    {
     "data": {
      "text/html": [
       "<div>\n",
       "<style scoped>\n",
       "    .dataframe tbody tr th:only-of-type {\n",
       "        vertical-align: middle;\n",
       "    }\n",
       "\n",
       "    .dataframe tbody tr th {\n",
       "        vertical-align: top;\n",
       "    }\n",
       "\n",
       "    .dataframe thead th {\n",
       "        text-align: right;\n",
       "    }\n",
       "</style>\n",
       "<table border=\"1\" class=\"dataframe\">\n",
       "  <thead>\n",
       "    <tr style=\"text-align: right;\">\n",
       "      <th></th>\n",
       "      <th>c</th>\n",
       "      <th>returns</th>\n",
       "      <th>cumlogret</th>\n",
       "      <th>valore1HUF</th>\n",
       "    </tr>\n",
       "  </thead>\n",
       "  <tbody>\n",
       "    <tr>\n",
       "      <th>count</th>\n",
       "      <td>3718.000000</td>\n",
       "      <td>3718.000000</td>\n",
       "      <td>3718.000000</td>\n",
       "      <td>3718.000000</td>\n",
       "    </tr>\n",
       "    <tr>\n",
       "      <th>mean</th>\n",
       "      <td>303.888292</td>\n",
       "      <td>0.000089</td>\n",
       "      <td>0.166947</td>\n",
       "      <td>1.185906</td>\n",
       "    </tr>\n",
       "    <tr>\n",
       "      <th>std</th>\n",
       "      <td>25.832228</td>\n",
       "      <td>0.005555</td>\n",
       "      <td>0.084136</td>\n",
       "      <td>0.100809</td>\n",
       "    </tr>\n",
       "    <tr>\n",
       "      <th>min</th>\n",
       "      <td>251.250000</td>\n",
       "      <td>-0.038076</td>\n",
       "      <td>-0.019705</td>\n",
       "      <td>0.980488</td>\n",
       "    </tr>\n",
       "    <tr>\n",
       "      <th>25%</th>\n",
       "      <td>282.664250</td>\n",
       "      <td>-0.002609</td>\n",
       "      <td>0.098106</td>\n",
       "      <td>1.103080</td>\n",
       "    </tr>\n",
       "    <tr>\n",
       "      <th>50%</th>\n",
       "      <td>306.455000</td>\n",
       "      <td>0.000000</td>\n",
       "      <td>0.178917</td>\n",
       "      <td>1.195922</td>\n",
       "    </tr>\n",
       "    <tr>\n",
       "      <th>75%</th>\n",
       "      <td>315.165750</td>\n",
       "      <td>0.002701</td>\n",
       "      <td>0.206945</td>\n",
       "      <td>1.229915</td>\n",
       "    </tr>\n",
       "    <tr>\n",
       "      <th>max</th>\n",
       "      <td>368.371000</td>\n",
       "      <td>0.065895</td>\n",
       "      <td>0.362937</td>\n",
       "      <td>1.437545</td>\n",
       "    </tr>\n",
       "  </tbody>\n",
       "</table>\n",
       "</div>"
      ],
      "text/plain": [
       "                 c      returns    cumlogret   valore1HUF\n",
       "count  3718.000000  3718.000000  3718.000000  3718.000000\n",
       "mean    303.888292     0.000089     0.166947     1.185906\n",
       "std      25.832228     0.005555     0.084136     0.100809\n",
       "min     251.250000    -0.038076    -0.019705     0.980488\n",
       "25%     282.664250    -0.002609     0.098106     1.103080\n",
       "50%     306.455000     0.000000     0.178917     1.195922\n",
       "75%     315.165750     0.002701     0.206945     1.229915\n",
       "max     368.371000     0.065895     0.362937     1.437545"
      ]
     },
     "execution_count": 22,
     "metadata": {},
     "output_type": "execute_result"
    }
   ],
   "source": [
    "df.describe()"
   ]
  },
  {
   "cell_type": "code",
   "execution_count": null,
   "id": "042d5e58",
   "metadata": {},
   "outputs": [],
   "source": [
    "#Dalla tabellina sopra se vede che il massimo di valore perso in un giorno è 3.8% e il massimo che \n",
    "#ha guadagnato in valore in un giorno è 6,5%, in numeri assoluti si vede che la conversione al euro è più\n",
    "#oscillante in rispetto al EUR_USD. La media del ritorno è positiva, quindi conferma la tendenza della valuta a guadagnare \n",
    "#in valore."
   ]
  },
  {
   "cell_type": "code",
   "execution_count": 23,
   "id": "0bc2201c",
   "metadata": {},
   "outputs": [
    {
     "name": "stdout",
     "output_type": "stream",
     "text": [
      "<class 'pandas.core.frame.DataFrame'>\n",
      "DatetimeIndex: 3718 entries, 2008-10-10 21:00:00 to 2021-09-30 21:00:00\n",
      "Data columns (total 4 columns):\n",
      " #   Column      Non-Null Count  Dtype  \n",
      "---  ------      --------------  -----  \n",
      " 0   c           3718 non-null   float64\n",
      " 1   returns     3718 non-null   float64\n",
      " 2   cumlogret   3718 non-null   float64\n",
      " 3   valore1HUF  3718 non-null   float64\n",
      "dtypes: float64(4)\n",
      "memory usage: 145.2 KB\n"
     ]
    }
   ],
   "source": [
    "df.info()"
   ]
  },
  {
   "cell_type": "code",
   "execution_count": 24,
   "id": "3b8246c0",
   "metadata": {},
   "outputs": [
    {
     "data": {
      "text/plain": [
       "<AxesSubplot:xlabel='time'>"
      ]
     },
     "execution_count": 24,
     "metadata": {},
     "output_type": "execute_result"
    },
    {
     "data": {
      "image/png": "[encoded data removed]",
      "text/plain": [
       "<Figure size 576x396 with 1 Axes>"
      ]
     },
     "metadata": {},
     "output_type": "display_data"
    }
   ],
   "source": [
    "df.valore1HUF.plot()"
   ]
  },
  {
   "cell_type": "code",
   "execution_count": null,
   "id": "c6d140a7",
   "metadata": {},
   "outputs": [],
   "source": [
    "#Confermando l'analise fatta sopra, il forint ha guardagnato valore, sopratutto dal 2015.\n",
    "#non senza pero' un po' di oscillazione, sopratutto all'inizio del periodo"
   ]
  },
  {
   "cell_type": "markdown",
   "id": "3c2509de",
   "metadata": {},
   "source": [
    "## Metriche di performance - Performance metrics"
   ]
  },
  {
   "cell_type": "code",
   "execution_count": 25,
   "id": "2f27ceab",
   "metadata": {},
   "outputs": [
    {
     "name": "stdout",
     "output_type": "stream",
     "text": [
      "8.936747995109138e-05\n",
      "0.0\n",
      "0.005555422800596214\n",
      "0.33226829045815776\n"
     ]
    }
   ],
   "source": [
    "#rendimento medio giornaliero\n",
    "print(df.returns.mean())\n",
    "#rendimento mediano giornaliero\n",
    "print(df.returns.median())\n",
    "#volatilita sui rendimenti giornalieri, alias standard deviation\n",
    "print(df.returns.std())\n",
    "#rendimento assoluto sulla base LOGARITMICA, sui 13 anni\n",
    "print(df.cumlogret[-1])"
   ]
  },
  {
   "cell_type": "code",
   "execution_count": 26,
   "id": "f4bbdf67",
   "metadata": {},
   "outputs": [
    {
     "name": "stdout",
     "output_type": "stream",
     "text": [
      "0.022341869987772843\n",
      "0.0\n",
      "0.08783894707557731\n"
     ]
    }
   ],
   "source": [
    "#rendimento medio annualizzato\n",
    "print(df.returns.mean()*250)\n",
    "\n",
    "#mediana annualizzata\n",
    "print(df.returns.median()*250)\n",
    "\n",
    "#volatilita annualizata a base dei rendimenti giornalieri\n",
    "print(df.returns.std()*np.sqrt(250))"
   ]
  },
  {
   "cell_type": "code",
   "execution_count": null,
   "id": "ba3aab15",
   "metadata": {},
   "outputs": [],
   "source": [
    "#La volatilità per questo periodo di 13 anni è praticamente la stessa del dolar, pero' il rendimento del annualizzato del forint\n",
    "#è positivo al 2,2%, invece dal dollar que perde valore al quase 1%."
   ]
  },
  {
   "cell_type": "code",
   "execution_count": 27,
   "id": "480d053c",
   "metadata": {},
   "outputs": [
    {
     "name": "stdout",
     "output_type": "stream",
     "text": [
      "0.022341869987772846\n",
      "0.025596860704353647\n",
      "<class 'pandas._libs.tslibs.timestamps.Timestamp'>\n"
     ]
    }
   ],
   "source": [
    "# Prossimo passo: rendimento assoluto annualizzato  sui 13 anni\n",
    "\n",
    "# 1. quanti giorni di trading ci furono?\n",
    "daysproportion = 250/len(df)  #dividere i giorni lanno del mercato finanziario per linsieme di giorni del DF\n",
    "\n",
    "#2. Calcolare rendimento assoluto al giorno  \n",
    "print(df.cumlogret[-1]*daysproportion) \n",
    "#uguale al rendimento medio annualizzato sopra calcolato\n",
    "#altra procedura ammessa:\n",
    "print(df.cumlogret[-1]*365/(df.index[-1]-df.index[0]).days)\n",
    "print(type(df.index[0]))"
   ]
  },
  {
   "cell_type": "markdown",
   "id": "f5081b39",
   "metadata": {},
   "source": [
    "### Massimo drawdown"
   ]
  },
  {
   "cell_type": "code",
   "execution_count": null,
   "id": "e1ed00ad",
   "metadata": {},
   "outputs": [],
   "source": [
    "#differenza tra il massimo raggiunto nel passato e il prezzo che ha raggiunto nel presente. se è zero vuol dire che il prezzo \n",
    "#di adesso è il massimo"
   ]
  },
  {
   "cell_type": "code",
   "execution_count": 28,
   "id": "e25911e4",
   "metadata": {},
   "outputs": [
    {
     "data": {
      "text/html": [
       "<div>\n",
       "<style scoped>\n",
       "    .dataframe tbody tr th:only-of-type {\n",
       "        vertical-align: middle;\n",
       "    }\n",
       "\n",
       "    .dataframe tbody tr th {\n",
       "        vertical-align: top;\n",
       "    }\n",
       "\n",
       "    .dataframe thead th {\n",
       "        text-align: right;\n",
       "    }\n",
       "</style>\n",
       "<table border=\"1\" class=\"dataframe\">\n",
       "  <thead>\n",
       "    <tr style=\"text-align: right;\">\n",
       "      <th></th>\n",
       "      <th>c</th>\n",
       "      <th>returns</th>\n",
       "      <th>cumlogret</th>\n",
       "      <th>valore1HUF</th>\n",
       "    </tr>\n",
       "    <tr>\n",
       "      <th>time</th>\n",
       "      <th></th>\n",
       "      <th></th>\n",
       "      <th></th>\n",
       "      <th></th>\n",
       "    </tr>\n",
       "  </thead>\n",
       "  <tbody>\n",
       "    <tr>\n",
       "      <th>2008-10-10 21:00:00</th>\n",
       "      <td>256.250</td>\n",
       "      <td>0.000000</td>\n",
       "      <td>0.000000e+00</td>\n",
       "      <td>1.000000</td>\n",
       "    </tr>\n",
       "    <tr>\n",
       "      <th>2008-10-11 21:00:00</th>\n",
       "      <td>255.705</td>\n",
       "      <td>-0.002129</td>\n",
       "      <td>-2.129094e-03</td>\n",
       "      <td>0.997873</td>\n",
       "    </tr>\n",
       "    <tr>\n",
       "      <th>2008-10-12 21:00:00</th>\n",
       "      <td>251.250</td>\n",
       "      <td>-0.017576</td>\n",
       "      <td>-1.970507e-02</td>\n",
       "      <td>0.980488</td>\n",
       "    </tr>\n",
       "    <tr>\n",
       "      <th>2008-10-13 21:00:00</th>\n",
       "      <td>253.250</td>\n",
       "      <td>0.007929</td>\n",
       "      <td>-1.177639e-02</td>\n",
       "      <td>0.988293</td>\n",
       "    </tr>\n",
       "    <tr>\n",
       "      <th>2008-10-14 21:00:00</th>\n",
       "      <td>270.500</td>\n",
       "      <td>0.065895</td>\n",
       "      <td>5.411857e-02</td>\n",
       "      <td>1.055610</td>\n",
       "    </tr>\n",
       "    <tr>\n",
       "      <th>2008-10-15 21:00:00</th>\n",
       "      <td>264.100</td>\n",
       "      <td>-0.023944</td>\n",
       "      <td>3.017429e-02</td>\n",
       "      <td>1.030634</td>\n",
       "    </tr>\n",
       "    <tr>\n",
       "      <th>2008-10-16 21:00:00</th>\n",
       "      <td>262.800</td>\n",
       "      <td>-0.004935</td>\n",
       "      <td>2.523976e-02</td>\n",
       "      <td>1.025561</td>\n",
       "    </tr>\n",
       "    <tr>\n",
       "      <th>2008-10-18 21:00:00</th>\n",
       "      <td>262.962</td>\n",
       "      <td>0.000616</td>\n",
       "      <td>2.585600e-02</td>\n",
       "      <td>1.026193</td>\n",
       "    </tr>\n",
       "    <tr>\n",
       "      <th>2008-10-19 21:00:00</th>\n",
       "      <td>269.550</td>\n",
       "      <td>0.024744</td>\n",
       "      <td>5.060037e-02</td>\n",
       "      <td>1.051902</td>\n",
       "    </tr>\n",
       "    <tr>\n",
       "      <th>2008-10-20 21:00:00</th>\n",
       "      <td>277.380</td>\n",
       "      <td>0.028635</td>\n",
       "      <td>7.923488e-02</td>\n",
       "      <td>1.082459</td>\n",
       "    </tr>\n",
       "    <tr>\n",
       "      <th>2008-10-21 21:00:00</th>\n",
       "      <td>277.500</td>\n",
       "      <td>0.000433</td>\n",
       "      <td>7.966740e-02</td>\n",
       "      <td>1.082927</td>\n",
       "    </tr>\n",
       "    <tr>\n",
       "      <th>2008-10-22 21:00:00</th>\n",
       "      <td>275.750</td>\n",
       "      <td>-0.006326</td>\n",
       "      <td>7.334113e-02</td>\n",
       "      <td>1.076098</td>\n",
       "    </tr>\n",
       "    <tr>\n",
       "      <th>2008-10-23 21:00:00</th>\n",
       "      <td>271.875</td>\n",
       "      <td>-0.014152</td>\n",
       "      <td>5.918887e-02</td>\n",
       "      <td>1.060976</td>\n",
       "    </tr>\n",
       "    <tr>\n",
       "      <th>2008-10-25 21:00:00</th>\n",
       "      <td>267.500</td>\n",
       "      <td>-0.016223</td>\n",
       "      <td>4.296604e-02</td>\n",
       "      <td>1.043902</td>\n",
       "    </tr>\n",
       "    <tr>\n",
       "      <th>2008-10-26 21:00:00</th>\n",
       "      <td>269.000</td>\n",
       "      <td>0.005592</td>\n",
       "      <td>4.855785e-02</td>\n",
       "      <td>1.049756</td>\n",
       "    </tr>\n",
       "    <tr>\n",
       "      <th>2008-10-27 21:00:00</th>\n",
       "      <td>258.950</td>\n",
       "      <td>-0.038076</td>\n",
       "      <td>1.048146e-02</td>\n",
       "      <td>1.010537</td>\n",
       "    </tr>\n",
       "    <tr>\n",
       "      <th>2008-10-28 21:00:00</th>\n",
       "      <td>256.250</td>\n",
       "      <td>-0.010481</td>\n",
       "      <td>7.459311e-17</td>\n",
       "      <td>1.000000</td>\n",
       "    </tr>\n",
       "    <tr>\n",
       "      <th>2008-10-29 21:00:00</th>\n",
       "      <td>259.200</td>\n",
       "      <td>0.011446</td>\n",
       "      <td>1.144643e-02</td>\n",
       "      <td>1.011512</td>\n",
       "    </tr>\n",
       "    <tr>\n",
       "      <th>2008-10-30 21:00:00</th>\n",
       "      <td>253.375</td>\n",
       "      <td>-0.022729</td>\n",
       "      <td>-1.128293e-02</td>\n",
       "      <td>0.988780</td>\n",
       "    </tr>\n",
       "    <tr>\n",
       "      <th>2008-11-01 21:00:00</th>\n",
       "      <td>254.500</td>\n",
       "      <td>0.004430</td>\n",
       "      <td>-6.852694e-03</td>\n",
       "      <td>0.993171</td>\n",
       "    </tr>\n",
       "    <tr>\n",
       "      <th>2008-11-02 22:00:00</th>\n",
       "      <td>259.955</td>\n",
       "      <td>0.021208</td>\n",
       "      <td>1.435501e-02</td>\n",
       "      <td>1.014459</td>\n",
       "    </tr>\n",
       "    <tr>\n",
       "      <th>2008-11-03 22:00:00</th>\n",
       "      <td>257.880</td>\n",
       "      <td>-0.008014</td>\n",
       "      <td>6.340830e-03</td>\n",
       "      <td>1.006361</td>\n",
       "    </tr>\n",
       "    <tr>\n",
       "      <th>2008-11-04 22:00:00</th>\n",
       "      <td>260.025</td>\n",
       "      <td>0.008283</td>\n",
       "      <td>1.462425e-02</td>\n",
       "      <td>1.014732</td>\n",
       "    </tr>\n",
       "    <tr>\n",
       "      <th>2008-11-05 22:00:00</th>\n",
       "      <td>262.200</td>\n",
       "      <td>0.008330</td>\n",
       "      <td>2.295404e-02</td>\n",
       "      <td>1.023220</td>\n",
       "    </tr>\n",
       "    <tr>\n",
       "      <th>2008-11-06 22:00:00</th>\n",
       "      <td>266.750</td>\n",
       "      <td>0.017204</td>\n",
       "      <td>4.015836e-02</td>\n",
       "      <td>1.040976</td>\n",
       "    </tr>\n",
       "    <tr>\n",
       "      <th>2008-11-08 22:00:00</th>\n",
       "      <td>266.000</td>\n",
       "      <td>-0.002816</td>\n",
       "      <td>3.734278e-02</td>\n",
       "      <td>1.038049</td>\n",
       "    </tr>\n",
       "    <tr>\n",
       "      <th>2008-11-09 22:00:00</th>\n",
       "      <td>267.300</td>\n",
       "      <td>0.004875</td>\n",
       "      <td>4.221809e-02</td>\n",
       "      <td>1.043122</td>\n",
       "    </tr>\n",
       "    <tr>\n",
       "      <th>2008-11-10 22:00:00</th>\n",
       "      <td>268.705</td>\n",
       "      <td>0.005243</td>\n",
       "      <td>4.746059e-02</td>\n",
       "      <td>1.048605</td>\n",
       "    </tr>\n",
       "    <tr>\n",
       "      <th>2008-11-11 22:00:00</th>\n",
       "      <td>271.375</td>\n",
       "      <td>0.009888</td>\n",
       "      <td>5.734810e-02</td>\n",
       "      <td>1.059024</td>\n",
       "    </tr>\n",
       "    <tr>\n",
       "      <th>2008-11-12 22:00:00</th>\n",
       "      <td>267.440</td>\n",
       "      <td>-0.014606</td>\n",
       "      <td>4.274171e-02</td>\n",
       "      <td>1.043668</td>\n",
       "    </tr>\n",
       "  </tbody>\n",
       "</table>\n",
       "</div>"
      ],
      "text/plain": [
       "                           c   returns     cumlogret  valore1HUF\n",
       "time                                                            \n",
       "2008-10-10 21:00:00  256.250  0.000000  0.000000e+00    1.000000\n",
       "2008-10-11 21:00:00  255.705 -0.002129 -2.129094e-03    0.997873\n",
       "2008-10-12 21:00:00  251.250 -0.017576 -1.970507e-02    0.980488\n",
       "2008-10-13 21:00:00  253.250  0.007929 -1.177639e-02    0.988293\n",
       "2008-10-14 21:00:00  270.500  0.065895  5.411857e-02    1.055610\n",
       "2008-10-15 21:00:00  264.100 -0.023944  3.017429e-02    1.030634\n",
       "2008-10-16 21:00:00  262.800 -0.004935  2.523976e-02    1.025561\n",
       "2008-10-18 21:00:00  262.962  0.000616  2.585600e-02    1.026193\n",
       "2008-10-19 21:00:00  269.550  0.024744  5.060037e-02    1.051902\n",
       "2008-10-20 21:00:00  277.380  0.028635  7.923488e-02    1.082459\n",
       "2008-10-21 21:00:00  277.500  0.000433  7.966740e-02    1.082927\n",
       "2008-10-22 21:00:00  275.750 -0.006326  7.334113e-02    1.076098\n",
       "2008-10-23 21:00:00  271.875 -0.014152  5.918887e-02    1.060976\n",
       "2008-10-25 21:00:00  267.500 -0.016223  4.296604e-02    1.043902\n",
       "2008-10-26 21:00:00  269.000  0.005592  4.855785e-02    1.049756\n",
       "2008-10-27 21:00:00  258.950 -0.038076  1.048146e-02    1.010537\n",
       "2008-10-28 21:00:00  256.250 -0.010481  7.459311e-17    1.000000\n",
       "2008-10-29 21:00:00  259.200  0.011446  1.144643e-02    1.011512\n",
       "2008-10-30 21:00:00  253.375 -0.022729 -1.128293e-02    0.988780\n",
       "2008-11-01 21:00:00  254.500  0.004430 -6.852694e-03    0.993171\n",
       "2008-11-02 22:00:00  259.955  0.021208  1.435501e-02    1.014459\n",
       "2008-11-03 22:00:00  257.880 -0.008014  6.340830e-03    1.006361\n",
       "2008-11-04 22:00:00  260.025  0.008283  1.462425e-02    1.014732\n",
       "2008-11-05 22:00:00  262.200  0.008330  2.295404e-02    1.023220\n",
       "2008-11-06 22:00:00  266.750  0.017204  4.015836e-02    1.040976\n",
       "2008-11-08 22:00:00  266.000 -0.002816  3.734278e-02    1.038049\n",
       "2008-11-09 22:00:00  267.300  0.004875  4.221809e-02    1.043122\n",
       "2008-11-10 22:00:00  268.705  0.005243  4.746059e-02    1.048605\n",
       "2008-11-11 22:00:00  271.375  0.009888  5.734810e-02    1.059024\n",
       "2008-11-12 22:00:00  267.440 -0.014606  4.274171e-02    1.043668"
      ]
     },
     "execution_count": 28,
     "metadata": {},
     "output_type": "execute_result"
    }
   ],
   "source": [
    "df.head(30)"
   ]
  },
  {
   "cell_type": "markdown",
   "id": "88a38685",
   "metadata": {},
   "source": [
    "Il drawdown è la differenza tra il massimo cumulato del rendimento cumulato e il rendimento cumulato stesso. Rappresenta il massimo guadagno che abbiamo potenzialmente raggiunto meno il rendimento attuale."
   ]
  },
  {
   "cell_type": "code",
   "execution_count": 29,
   "id": "0d6f7d7f",
   "metadata": {},
   "outputs": [],
   "source": [
    "#rendimento cumulativo logaritmico massimo \n",
    "# il massimo che avrei potuto guadagnare\n",
    "df[\"cumlogretmax\"] = df.cumlogret.cummax()  #funzione cummax mi ritorno una serie e non nummero"
   ]
  },
  {
   "cell_type": "code",
   "execution_count": 30,
   "id": "dd1fe58c",
   "metadata": {},
   "outputs": [
    {
     "data": {
      "text/html": [
       "<div>\n",
       "<style scoped>\n",
       "    .dataframe tbody tr th:only-of-type {\n",
       "        vertical-align: middle;\n",
       "    }\n",
       "\n",
       "    .dataframe tbody tr th {\n",
       "        vertical-align: top;\n",
       "    }\n",
       "\n",
       "    .dataframe thead th {\n",
       "        text-align: right;\n",
       "    }\n",
       "</style>\n",
       "<table border=\"1\" class=\"dataframe\">\n",
       "  <thead>\n",
       "    <tr style=\"text-align: right;\">\n",
       "      <th></th>\n",
       "      <th>c</th>\n",
       "      <th>returns</th>\n",
       "      <th>cumlogret</th>\n",
       "      <th>valore1HUF</th>\n",
       "      <th>cumlogretmax</th>\n",
       "    </tr>\n",
       "    <tr>\n",
       "      <th>time</th>\n",
       "      <th></th>\n",
       "      <th></th>\n",
       "      <th></th>\n",
       "      <th></th>\n",
       "      <th></th>\n",
       "    </tr>\n",
       "  </thead>\n",
       "  <tbody>\n",
       "    <tr>\n",
       "      <th>2008-10-10 21:00:00</th>\n",
       "      <td>256.250</td>\n",
       "      <td>0.000000</td>\n",
       "      <td>0.000000</td>\n",
       "      <td>1.000000</td>\n",
       "      <td>0.000000</td>\n",
       "    </tr>\n",
       "    <tr>\n",
       "      <th>2008-10-11 21:00:00</th>\n",
       "      <td>255.705</td>\n",
       "      <td>-0.002129</td>\n",
       "      <td>-0.002129</td>\n",
       "      <td>0.997873</td>\n",
       "      <td>0.000000</td>\n",
       "    </tr>\n",
       "    <tr>\n",
       "      <th>2008-10-12 21:00:00</th>\n",
       "      <td>251.250</td>\n",
       "      <td>-0.017576</td>\n",
       "      <td>-0.019705</td>\n",
       "      <td>0.980488</td>\n",
       "      <td>0.000000</td>\n",
       "    </tr>\n",
       "    <tr>\n",
       "      <th>2008-10-13 21:00:00</th>\n",
       "      <td>253.250</td>\n",
       "      <td>0.007929</td>\n",
       "      <td>-0.011776</td>\n",
       "      <td>0.988293</td>\n",
       "      <td>0.000000</td>\n",
       "    </tr>\n",
       "    <tr>\n",
       "      <th>2008-10-14 21:00:00</th>\n",
       "      <td>270.500</td>\n",
       "      <td>0.065895</td>\n",
       "      <td>0.054119</td>\n",
       "      <td>1.055610</td>\n",
       "      <td>0.054119</td>\n",
       "    </tr>\n",
       "    <tr>\n",
       "      <th>2008-10-15 21:00:00</th>\n",
       "      <td>264.100</td>\n",
       "      <td>-0.023944</td>\n",
       "      <td>0.030174</td>\n",
       "      <td>1.030634</td>\n",
       "      <td>0.054119</td>\n",
       "    </tr>\n",
       "    <tr>\n",
       "      <th>2008-10-16 21:00:00</th>\n",
       "      <td>262.800</td>\n",
       "      <td>-0.004935</td>\n",
       "      <td>0.025240</td>\n",
       "      <td>1.025561</td>\n",
       "      <td>0.054119</td>\n",
       "    </tr>\n",
       "    <tr>\n",
       "      <th>2008-10-18 21:00:00</th>\n",
       "      <td>262.962</td>\n",
       "      <td>0.000616</td>\n",
       "      <td>0.025856</td>\n",
       "      <td>1.026193</td>\n",
       "      <td>0.054119</td>\n",
       "    </tr>\n",
       "    <tr>\n",
       "      <th>2008-10-19 21:00:00</th>\n",
       "      <td>269.550</td>\n",
       "      <td>0.024744</td>\n",
       "      <td>0.050600</td>\n",
       "      <td>1.051902</td>\n",
       "      <td>0.054119</td>\n",
       "    </tr>\n",
       "    <tr>\n",
       "      <th>2008-10-20 21:00:00</th>\n",
       "      <td>277.380</td>\n",
       "      <td>0.028635</td>\n",
       "      <td>0.079235</td>\n",
       "      <td>1.082459</td>\n",
       "      <td>0.079235</td>\n",
       "    </tr>\n",
       "    <tr>\n",
       "      <th>2008-10-21 21:00:00</th>\n",
       "      <td>277.500</td>\n",
       "      <td>0.000433</td>\n",
       "      <td>0.079667</td>\n",
       "      <td>1.082927</td>\n",
       "      <td>0.079667</td>\n",
       "    </tr>\n",
       "    <tr>\n",
       "      <th>2008-10-22 21:00:00</th>\n",
       "      <td>275.750</td>\n",
       "      <td>-0.006326</td>\n",
       "      <td>0.073341</td>\n",
       "      <td>1.076098</td>\n",
       "      <td>0.079667</td>\n",
       "    </tr>\n",
       "    <tr>\n",
       "      <th>2008-10-23 21:00:00</th>\n",
       "      <td>271.875</td>\n",
       "      <td>-0.014152</td>\n",
       "      <td>0.059189</td>\n",
       "      <td>1.060976</td>\n",
       "      <td>0.079667</td>\n",
       "    </tr>\n",
       "  </tbody>\n",
       "</table>\n",
       "</div>"
      ],
      "text/plain": [
       "                           c   returns  cumlogret  valore1HUF  cumlogretmax\n",
       "time                                                                       \n",
       "2008-10-10 21:00:00  256.250  0.000000   0.000000    1.000000      0.000000\n",
       "2008-10-11 21:00:00  255.705 -0.002129  -0.002129    0.997873      0.000000\n",
       "2008-10-12 21:00:00  251.250 -0.017576  -0.019705    0.980488      0.000000\n",
       "2008-10-13 21:00:00  253.250  0.007929  -0.011776    0.988293      0.000000\n",
       "2008-10-14 21:00:00  270.500  0.065895   0.054119    1.055610      0.054119\n",
       "2008-10-15 21:00:00  264.100 -0.023944   0.030174    1.030634      0.054119\n",
       "2008-10-16 21:00:00  262.800 -0.004935   0.025240    1.025561      0.054119\n",
       "2008-10-18 21:00:00  262.962  0.000616   0.025856    1.026193      0.054119\n",
       "2008-10-19 21:00:00  269.550  0.024744   0.050600    1.051902      0.054119\n",
       "2008-10-20 21:00:00  277.380  0.028635   0.079235    1.082459      0.079235\n",
       "2008-10-21 21:00:00  277.500  0.000433   0.079667    1.082927      0.079667\n",
       "2008-10-22 21:00:00  275.750 -0.006326   0.073341    1.076098      0.079667\n",
       "2008-10-23 21:00:00  271.875 -0.014152   0.059189    1.060976      0.079667"
      ]
     },
     "execution_count": 30,
     "metadata": {},
     "output_type": "execute_result"
    }
   ],
   "source": [
    "df.head(13)"
   ]
  },
  {
   "cell_type": "code",
   "execution_count": 31,
   "id": "8388bc73",
   "metadata": {},
   "outputs": [
    {
     "data": {
      "text/plain": [
       "<AxesSubplot:xlabel='time'>"
      ]
     },
     "execution_count": 31,
     "metadata": {},
     "output_type": "execute_result"
    },
    {
     "data": {
      "image/png": "[encoded data removed]",
      "text/plain": [
       "<Figure size 576x396 with 1 Axes>"
      ]
     },
     "metadata": {},
     "output_type": "display_data"
    }
   ],
   "source": [
    "df[[\"cumlogret\", \"cumlogretmax\"]].plot()\n",
    "#drawdown eh la differenza tra rigga verde e riga blue. tra il massimo che ho raggiunto fino aquel momento come rendimento\n",
    "#e il rendimento attuale. il massimo di rendimento cumulato considerato allinizio fino a quel momento. "
   ]
  },
  {
   "cell_type": "code",
   "execution_count": 32,
   "id": "37fdce07",
   "metadata": {},
   "outputs": [
    {
     "data": {
      "text/plain": [
       "0.19087665403378618"
      ]
     },
     "execution_count": 32,
     "metadata": {},
     "output_type": "execute_result"
    }
   ],
   "source": [
    "drawdown=df.cumlogretmax-df.cumlogret\n",
    "drawdown.max()"
   ]
  },
  {
   "cell_type": "code",
   "execution_count": null,
   "id": "a9afc24c",
   "metadata": {},
   "outputs": [],
   "source": [
    "# dato che il drawdown rappresenta il massimo guardagno che abbiamo potenzialmente raggiunto considerato dall'inizio \n",
    "#fino a quel momento  la situazione attual e che però abbiamo una SERIE di valore, cioè un valore per ogni giorno del DF, \n",
    "# il commando sopra drawdown.max trova il valore massimo di tutta questa serie di valore.\n",
    "# Il massimo rendimento potenzialmente raggiunto con la valuta forint nell'intervalo di 13 anni tra \n",
    "#sarebbe il 36%, che è quase lo stesso dal dollar. "
   ]
  },
  {
   "cell_type": "code",
   "execution_count": 33,
   "id": "4196b103",
   "metadata": {},
   "outputs": [
    {
     "data": {
      "text/plain": [
       "Timestamp('2010-03-16 21:00:00')"
      ]
     },
     "execution_count": 33,
     "metadata": {},
     "output_type": "execute_result"
    }
   ],
   "source": [
    "drawdown.idxmax()\n",
    "#Questo guardagno potrebbe essere stato raggiunto nel giorno 19 di dicembre di 2016."
   ]
  },
  {
   "cell_type": "code",
   "execution_count": null,
   "id": "5eec7f16",
   "metadata": {},
   "outputs": [],
   "source": [
    "# observations\n",
    "# cancellare prima riga? 2008-10-10 21:00:00\t256.250\t0.000000\t0.000000\t1.000000"
   ]
  }
 ],
 "metadata": {
  "kernelspec": {
   "display_name": "Python 3 (ipykernel)",
   "language": "python",
   "name": "python3"
  },
  "language_info": {
   "codemirror_mode": {
    "name": "ipython",
    "version": 3
   },
   "file_extension": ".py",
   "mimetype": "text/x-python",
   "name": "python",
   "nbconvert_exporter": "python",
   "pygments_lexer": "ipython3",
   "version": "3.8.5"
  }
 },
 "nbformat": 4,
 "nbformat_minor": 5
}
